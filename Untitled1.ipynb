{
 "cells": [
  {
   "cell_type": "code",
   "execution_count": 1,
   "id": "e379b23d-38af-4291-a55c-1733c7a47c3a",
   "metadata": {},
   "outputs": [
    {
     "name": "stdout",
     "output_type": "stream",
     "text": [
      "Using SAS Config named: ssh\n",
      "The OS Error was:\n",
      "Access is denied\n",
      "SAS Connection failed. No connection established. Double check your settings in sascfg_personal.py file.\n",
      "Attempted to run program C:\\Windows\\System32\\OpenSSH with the following parameters:['C:\\\\Windows\\\\System32\\\\OpenSSH', '-t', '172.17.0.2', '/opt/sasinside/SASHome/SASFoundation/9.4/bin/sas_en', '-fullstimer', '-nodms', '-stdio', '-terminal', '-nosyntaxcheck', '-pagesize', 'MAX', '']\n",
      "If no OS Error above, try running the following command (where saspy is running) manually to see what is wrong:\n",
      "C:\\Windows\\System32\\OpenSSH -t 172.17.0.2 /opt/sasinside/SASHome/SASFoundation/9.4/bin/sas_en -fullstimer -nodms -stdio -terminal -nosyntaxcheck -pagesize MAX  \n",
      "\n",
      "No SAS process attached. SAS process has terminated unexpectedly.\n",
      "Invalid response from SAS on inital submission. printing the SASLOG as diagnostic\n",
      "\n"
     ]
    },
    {
     "ename": "SASIOConnectionError",
     "evalue": "Failure establishing SASsession.\n No SAS process attached. SAS process has terminated unexpectedly.",
     "output_type": "error",
     "traceback": [
      "\u001b[1;31m---------------------------------------------------------------------------\u001b[0m",
      "\u001b[1;31mSASIOConnectionError\u001b[0m                      Traceback (most recent call last)",
      "Input \u001b[1;32mIn [1]\u001b[0m, in \u001b[0;36m<cell line: 2>\u001b[1;34m()\u001b[0m\n\u001b[0;32m      1\u001b[0m \u001b[38;5;28;01mimport\u001b[39;00m \u001b[38;5;21;01msaspy\u001b[39;00m\n\u001b[1;32m----> 2\u001b[0m sas \u001b[38;5;241m=\u001b[39m \u001b[43msaspy\u001b[49m\u001b[38;5;241;43m.\u001b[39;49m\u001b[43mSASsession\u001b[49m\u001b[43m(\u001b[49m\u001b[43mresults\u001b[49m\u001b[38;5;241;43m=\u001b[39;49m\u001b[38;5;124;43m'\u001b[39;49m\u001b[38;5;124;43mHTML\u001b[39;49m\u001b[38;5;124;43m'\u001b[39;49m\u001b[43m)\u001b[49m\n\u001b[0;32m      3\u001b[0m cars \u001b[38;5;241m=\u001b[39m sas\u001b[38;5;241m.\u001b[39msasdata(\u001b[38;5;124m'\u001b[39m\u001b[38;5;124mcars\u001b[39m\u001b[38;5;124m'\u001b[39m, libref\u001b[38;5;241m-\u001b[39m\u001b[38;5;124m'\u001b[39m\u001b[38;5;124msashelp\u001b[39m\u001b[38;5;124m'\u001b[39m)\n\u001b[0;32m      4\u001b[0m cars\u001b[38;5;241m.\u001b[39mheatmap(\u001b[38;5;124m'\u001b[39m\u001b[38;5;124mmsrp\u001b[39m\u001b[38;5;124m'\u001b[39m, \u001b[38;5;124m'\u001b[39m\u001b[38;5;124mhorsepower\u001b[39m\u001b[38;5;124m'\u001b[39m)\n",
      "File \u001b[1;32mC:\\Python310\\lib\\site-packages\\saspy\\sasbase.py:599\u001b[0m, in \u001b[0;36mSASsession.__init__\u001b[1;34m(self, **kwargs)\u001b[0m\n\u001b[0;32m    596\u001b[0m    \u001b[38;5;28;01mpass\u001b[39;00m\n\u001b[0;32m    598\u001b[0m \u001b[38;5;28;01mif\u001b[39;00m failed:\n\u001b[1;32m--> 599\u001b[0m    \u001b[38;5;28;01mraise\u001b[39;00m SASIOConnectionError(res)\n\u001b[0;32m    601\u001b[0m \u001b[38;5;28;01mif\u001b[39;00m \u001b[38;5;28mself\u001b[39m\u001b[38;5;241m.\u001b[39mpyenc \u001b[38;5;129;01mis\u001b[39;00m \u001b[38;5;129;01mnot\u001b[39;00m \u001b[38;5;28;01mNone\u001b[39;00m:\n\u001b[0;32m    602\u001b[0m    \u001b[38;5;28;01mif\u001b[39;00m \u001b[38;5;28mself\u001b[39m\u001b[38;5;241m.\u001b[39m_io\u001b[38;5;241m.\u001b[39msascfg\u001b[38;5;241m.\u001b[39mencoding \u001b[38;5;241m!=\u001b[39m \u001b[38;5;124m'\u001b[39m\u001b[38;5;124m'\u001b[39m:\n",
      "\u001b[1;31mSASIOConnectionError\u001b[0m: Failure establishing SASsession.\n No SAS process attached. SAS process has terminated unexpectedly."
     ]
    }
   ],
   "source": [
    "import saspy\n",
    "sas = saspy.SASsession(results='HTML')\n",
    "cars = sas.sasdata('cars', libref-'sashelp')\n",
    "cars.heatmap('msrp', 'horsepower')"
   ]
  },
  {
   "cell_type": "code",
   "execution_count": 2,
   "id": "15639b2f-15c0-4932-a110-3475bc422142",
   "metadata": {},
   "outputs": [
    {
     "data": {
      "text/plain": [
       "['C:\\\\Python310\\\\lib\\\\site-packages\\\\saspy\\\\sascfg.py']"
      ]
     },
     "execution_count": 2,
     "metadata": {},
     "output_type": "execute_result"
    }
   ],
   "source": [
    "saspy.list_configs()\n"
   ]
  },
  {
   "cell_type": "code",
   "execution_count": null,
   "id": "9abcb04a-377d-4ee8-816d-dae884e68dc4",
   "metadata": {},
   "outputs": [],
   "source": []
  }
 ],
 "metadata": {
  "kernelspec": {
   "display_name": "Python 3 (ipykernel)",
   "language": "python",
   "name": "python3"
  },
  "language_info": {
   "codemirror_mode": {
    "name": "ipython",
    "version": 3
   },
   "file_extension": ".py",
   "mimetype": "text/x-python",
   "name": "python",
   "nbconvert_exporter": "python",
   "pygments_lexer": "ipython3",
   "version": "3.10.4"
  }
 },
 "nbformat": 4,
 "nbformat_minor": 5
}
