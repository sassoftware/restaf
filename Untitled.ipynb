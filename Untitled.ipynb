{
 "cells": [
  {
   "cell_type": "code",
   "execution_count": 1,
   "id": "72c085d7-dc6f-4e20-baaa-0998cebca6ed",
   "metadata": {},
   "outputs": [
    {
     "data": {
      "text/plain": [
       "<module 'saspy' from 'C:\\\\Python310\\\\lib\\\\site-packages\\\\saspy\\\\__init__.py'>"
      ]
     },
     "execution_count": 1,
     "metadata": {},
     "output_type": "execute_result"
    }
   ],
   "source": [
    "import saspy\n",
    "saspy"
   ]
  },
  {
   "cell_type": "code",
   "execution_count": 2,
   "id": "ac5ac1ab-70a5-4d31-a69b-80810482469f",
   "metadata": {},
   "outputs": [],
   "source": [
    "sas_analytics_pro = { 'saspath' : '/opt/sas/viya/home/SASFoundation/sas',\n",
    "    'ssh'      : 'ssh',\n",
    "    'dasho'    : 'StrictHostKeyChecking=no',\n",
    "    'tunnel'   : 9111,\n",
    "    'rtunnel'  : 9112,\n",
    "    'port'     : 8222,\n",
    "    'luser'    : 'kumar',\n",
    "    'host'     : 'localhost',\n",
    "    'identity' : 'C:/Users/kumar/selerity/personal/sas-analytics-pro/data/.ssh/private.key',\n",
    "    'options'  : [\"fulltimer\"]\n",
    "}"
   ]
  },
  {
   "cell_type": "code",
   "execution_count": 3,
   "id": "bbdbbff8-9eeb-49b8-825e-eef0a7054fd3",
   "metadata": {},
   "outputs": [
    {
     "data": {
      "text/plain": [
       "{'saspath': '/opt/sas/viya/home/SASFoundation/sas',\n",
       " 'ssh': 'ssh',\n",
       " 'dasho': 'StrictHostKeyChecking=no',\n",
       " 'tunnel': 9111,\n",
       " 'rtunnel': 9112,\n",
       " 'port': 8222,\n",
       " 'luser': 'kumar',\n",
       " 'host': 'localhost',\n",
       " 'identity': 'C:/Users/kumar/selerity/personal/sas-analytics-pro/data/.ssh/private.key',\n",
       " 'options': ['fulltimer']}"
      ]
     },
     "execution_count": 3,
     "metadata": {},
     "output_type": "execute_result"
    }
   ],
   "source": [
    "sas_analytics_pro\n"
   ]
  },
  {
   "cell_type": "code",
   "execution_count": 6,
   "id": "27166677-eca5-4181-874c-968d32ee1d20",
   "metadata": {},
   "outputs": [
    {
     "name": "stdout",
     "output_type": "stream",
     "text": [
      "Using SAS Config named: apro\n"
     ]
    },
    {
     "ename": "SASIONotSupportedError",
     "evalue": "Cannot use STDIO I/O module on Windows. Try the following: IOM",
     "output_type": "error",
     "traceback": [
      "\u001b[1;31m---------------------------------------------------------------------------\u001b[0m",
      "\u001b[1;31mSASIONotSupportedError\u001b[0m                    Traceback (most recent call last)",
      "Input \u001b[1;32mIn [6]\u001b[0m, in \u001b[0;36m<cell line: 1>\u001b[1;34m()\u001b[0m\n\u001b[1;32m----> 1\u001b[0m sas \u001b[38;5;241m=\u001b[39m\u001b[43msaspy\u001b[49m\u001b[38;5;241;43m.\u001b[39;49m\u001b[43mSASsession\u001b[49m\u001b[43m(\u001b[49m\u001b[43mcfgfile\u001b[49m\u001b[38;5;241;43m=\u001b[39;49m\u001b[38;5;124;43m'\u001b[39;49m\u001b[38;5;124;43mc:/users/kumar/selerity/personal/sas-analytics-pro/data/sascfg_personal.py\u001b[39;49m\u001b[38;5;124;43m'\u001b[39;49m\u001b[43m)\u001b[49m\n",
      "File \u001b[1;32mC:\\Python310\\lib\\site-packages\\saspy\\sasbase.py:547\u001b[0m, in \u001b[0;36mSASsession.__init__\u001b[1;34m(self, **kwargs)\u001b[0m\n\u001b[0;32m    545\u001b[0m         \u001b[38;5;28mself\u001b[39m\u001b[38;5;241m.\u001b[39m_io \u001b[38;5;241m=\u001b[39m SASsessionSTDIO(sascfgname\u001b[38;5;241m=\u001b[39m\u001b[38;5;28mself\u001b[39m\u001b[38;5;241m.\u001b[39msascfg\u001b[38;5;241m.\u001b[39mname, sb\u001b[38;5;241m=\u001b[39m\u001b[38;5;28mself\u001b[39m, \u001b[38;5;241m*\u001b[39m\u001b[38;5;241m*\u001b[39mkwargs)\n\u001b[0;32m    546\u001b[0m     \u001b[38;5;28;01melse\u001b[39;00m:\n\u001b[1;32m--> 547\u001b[0m         \u001b[38;5;28;01mraise\u001b[39;00m SASIONotSupportedError(\u001b[38;5;28mself\u001b[39m\u001b[38;5;241m.\u001b[39msascfg\u001b[38;5;241m.\u001b[39mmode, alts\u001b[38;5;241m=\u001b[39m[\u001b[38;5;124m'\u001b[39m\u001b[38;5;124mIOM\u001b[39m\u001b[38;5;124m'\u001b[39m])\n\u001b[0;32m    548\u001b[0m \u001b[38;5;28;01melif\u001b[39;00m \u001b[38;5;28mself\u001b[39m\u001b[38;5;241m.\u001b[39msascfg\u001b[38;5;241m.\u001b[39mmode \u001b[38;5;241m==\u001b[39m \u001b[38;5;124m'\u001b[39m\u001b[38;5;124mIOM\u001b[39m\u001b[38;5;124m'\u001b[39m:\n\u001b[0;32m    549\u001b[0m     \u001b[38;5;28mself\u001b[39m\u001b[38;5;241m.\u001b[39m_io \u001b[38;5;241m=\u001b[39m SASsessionIOM(sascfgname\u001b[38;5;241m=\u001b[39m\u001b[38;5;28mself\u001b[39m\u001b[38;5;241m.\u001b[39msascfg\u001b[38;5;241m.\u001b[39mname, sb\u001b[38;5;241m=\u001b[39m\u001b[38;5;28mself\u001b[39m, \u001b[38;5;241m*\u001b[39m\u001b[38;5;241m*\u001b[39mkwargs)\n",
      "\u001b[1;31mSASIONotSupportedError\u001b[0m: Cannot use STDIO I/O module on Windows. Try the following: IOM"
     ]
    }
   ],
   "source": [
    "sas =saspy.SASsession(cfgfile='c:/users/kumar/selerity/personal/sas-analytics-pro/data/sascfg_personal.py')"
   ]
  },
  {
   "cell_type": "code",
   "execution_count": null,
   "id": "ee1e576d-2d19-4a3e-a333-1ed5af6e3ded",
   "metadata": {},
   "outputs": [],
   "source": []
  },
  {
   "cell_type": "code",
   "execution_count": 7,
   "id": "4c619b8c-1519-40c8-8f99-743b9d1a7adc",
   "metadata": {},
   "outputs": [
    {
     "name": "stdout",
     "output_type": "stream",
     "text": [
      "Using SAS Config named: apro\n"
     ]
    },
    {
     "ename": "SASIONotSupportedError",
     "evalue": "Cannot use STDIO I/O module on Windows. Try the following: IOM",
     "output_type": "error",
     "traceback": [
      "\u001b[1;31m---------------------------------------------------------------------------\u001b[0m",
      "\u001b[1;31mSASIONotSupportedError\u001b[0m                    Traceback (most recent call last)",
      "Input \u001b[1;32mIn [7]\u001b[0m, in \u001b[0;36m<cell line: 1>\u001b[1;34m()\u001b[0m\n\u001b[1;32m----> 1\u001b[0m sas \u001b[38;5;241m=\u001b[39m\u001b[43msaspy\u001b[49m\u001b[38;5;241;43m.\u001b[39;49m\u001b[43mSASsession\u001b[49m\u001b[43m(\u001b[49m\u001b[43mcfgfile\u001b[49m\u001b[38;5;241;43m=\u001b[39;49m\u001b[38;5;124;43m'\u001b[39;49m\u001b[38;5;124;43mc:/users/kumar/selerity/personal/sas-analytics-pro/data/sascfg_personal.py\u001b[39;49m\u001b[38;5;124;43m'\u001b[39;49m\u001b[43m)\u001b[49m\n",
      "File \u001b[1;32mC:\\Python310\\lib\\site-packages\\saspy\\sasbase.py:547\u001b[0m, in \u001b[0;36mSASsession.__init__\u001b[1;34m(self, **kwargs)\u001b[0m\n\u001b[0;32m    545\u001b[0m         \u001b[38;5;28mself\u001b[39m\u001b[38;5;241m.\u001b[39m_io \u001b[38;5;241m=\u001b[39m SASsessionSTDIO(sascfgname\u001b[38;5;241m=\u001b[39m\u001b[38;5;28mself\u001b[39m\u001b[38;5;241m.\u001b[39msascfg\u001b[38;5;241m.\u001b[39mname, sb\u001b[38;5;241m=\u001b[39m\u001b[38;5;28mself\u001b[39m, \u001b[38;5;241m*\u001b[39m\u001b[38;5;241m*\u001b[39mkwargs)\n\u001b[0;32m    546\u001b[0m     \u001b[38;5;28;01melse\u001b[39;00m:\n\u001b[1;32m--> 547\u001b[0m         \u001b[38;5;28;01mraise\u001b[39;00m SASIONotSupportedError(\u001b[38;5;28mself\u001b[39m\u001b[38;5;241m.\u001b[39msascfg\u001b[38;5;241m.\u001b[39mmode, alts\u001b[38;5;241m=\u001b[39m[\u001b[38;5;124m'\u001b[39m\u001b[38;5;124mIOM\u001b[39m\u001b[38;5;124m'\u001b[39m])\n\u001b[0;32m    548\u001b[0m \u001b[38;5;28;01melif\u001b[39;00m \u001b[38;5;28mself\u001b[39m\u001b[38;5;241m.\u001b[39msascfg\u001b[38;5;241m.\u001b[39mmode \u001b[38;5;241m==\u001b[39m \u001b[38;5;124m'\u001b[39m\u001b[38;5;124mIOM\u001b[39m\u001b[38;5;124m'\u001b[39m:\n\u001b[0;32m    549\u001b[0m     \u001b[38;5;28mself\u001b[39m\u001b[38;5;241m.\u001b[39m_io \u001b[38;5;241m=\u001b[39m SASsessionIOM(sascfgname\u001b[38;5;241m=\u001b[39m\u001b[38;5;28mself\u001b[39m\u001b[38;5;241m.\u001b[39msascfg\u001b[38;5;241m.\u001b[39mname, sb\u001b[38;5;241m=\u001b[39m\u001b[38;5;28mself\u001b[39m, \u001b[38;5;241m*\u001b[39m\u001b[38;5;241m*\u001b[39mkwargs)\n",
      "\u001b[1;31mSASIONotSupportedError\u001b[0m: Cannot use STDIO I/O module on Windows. Try the following: IOM"
     ]
    }
   ],
   "source": [
    "sas =saspy.SASsession(cfgfile='c:/users/kumar/selerity/personal/sas-analytics-pro/data/sascfg_personal.py')"
   ]
  },
  {
   "cell_type": "code",
   "execution_count": 8,
   "id": "cdadabdd-eeaf-48b9-acfd-7635bf0e4978",
   "metadata": {},
   "outputs": [
    {
     "data": {
      "text/plain": [
       "<module 'saspy' from 'C:\\\\Python310\\\\lib\\\\site-packages\\\\saspy\\\\__init__.py'>"
      ]
     },
     "execution_count": 8,
     "metadata": {},
     "output_type": "execute_result"
    }
   ],
   "source": [
    "saspy"
   ]
  }
 ],
 "metadata": {
  "kernelspec": {
   "display_name": "Python 3 (ipykernel)",
   "language": "python",
   "name": "python3"
  },
  "language_info": {
   "codemirror_mode": {
    "name": "ipython",
    "version": 3
   },
   "file_extension": ".py",
   "mimetype": "text/x-python",
   "name": "python",
   "nbconvert_exporter": "python",
   "pygments_lexer": "ipython3",
   "version": "3.10.4"
  }
 },
 "nbformat": 4,
 "nbformat_minor": 5
}
